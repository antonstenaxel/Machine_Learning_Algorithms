{
 "cells": [
  {
   "cell_type": "code",
   "execution_count": 38,
   "metadata": {
    "collapsed": true
   },
   "outputs": [],
   "source": [
    "import numpy as np\n",
    "import math\n",
    "import matplotlib.pyplot as plt\n",
    "%matplotlib inline"
   ]
  },
  {
   "cell_type": "markdown",
   "metadata": {},
   "source": [
    "Load csv file as np.array"
   ]
  },
  {
   "cell_type": "code",
   "execution_count": 2,
   "metadata": {
    "collapsed": true
   },
   "outputs": [],
   "source": [
    "def load_data():\n",
    "    with open('pima-indians-diabetes.csv') as f: \n",
    "        raw_data = np.array([line.split(\",\")[:-1] for line in f])\n",
    "        columns = raw_data[0]\n",
    "        data = raw_data[1:]\n",
    "    return columns,data.astype(float)"
   ]
  },
  {
   "cell_type": "markdown",
   "metadata": {},
   "source": [
    "Split dataset according to holdout validation"
   ]
  },
  {
   "cell_type": "code",
   "execution_count": 3,
   "metadata": {
    "collapsed": true
   },
   "outputs": [],
   "source": [
    "def test_train_split(data,fraction):\n",
    "    n_entries = len(data)\n",
    "    n_train = int(fraction*n_entries)\n",
    "    \n",
    "    indicies = np.random.permutation(np.arange(n_entries))\n",
    "\n",
    "    train_set = data[indicies[:n_train]]\n",
    "    test_set = data[indicies[n_train:]]\n",
    "    \n",
    "    return train_set, test_set"
   ]
  },
  {
   "cell_type": "markdown",
   "metadata": {},
   "source": [
    "  "
   ]
  },
  {
   "cell_type": "code",
   "execution_count": 4,
   "metadata": {},
   "outputs": [],
   "source": [
    "class NaiveBayesPredictor():\n",
    "    \n",
    "    def __init__(self,data):\n",
    "        self.data = data\n",
    "        self.calculate_prior()\n",
    "        self.calculate_mean_and_std()\n",
    "         \n",
    "    def predict(self,values):\n",
    "        prob_class_0 = self.calc_probabilities(values,0)*self.prior[0]\n",
    "        prob_class_1 = self.calc_probabilities(values,1)*self.prior[1]\n",
    "   \n",
    "        if(prob_class_0 > prob_class_1):\n",
    "            return 0\n",
    "        else:\n",
    "            return 1\n",
    "        \n",
    "        \n",
    "    def test(self,test_data):\n",
    "        n_correct = 0\n",
    "        n_false = 0\n",
    "        \n",
    "        for data_point in test_data:\n",
    "            correct_class = data_point[-1]\n",
    "            estimated_class = self.predict(data_point[:-1])\n",
    "            \n",
    "            if(correct_class == estimated_class):\n",
    "                n_correct += 1\n",
    "            else:\n",
    "                n_false += 1\n",
    "\n",
    "        print(\"{:.1f}% correct\".format(100*n_correct/(n_correct+n_false)))\n",
    "    \n",
    "    def calculate_prior(self):\n",
    "        n_datapoints = len(self.data)\n",
    "        n_class_0 = len(self.data[self.data[:,-1] == 0])\n",
    "        \n",
    "        self.prior = np.array([n_class_0, n_datapoints-n_class_0])/n_datapoints\n",
    "        \n",
    "    def calculate_mean_and_std(self):\n",
    "        class_0 = self.data[self.data[:,-1] == 0]\n",
    "        class_1 = self.data[self.data[:,-1] == 1]\n",
    "    \n",
    "        self.mean = [np.mean(class_0, axis=0)[:-1], np.mean(class_1, axis=0)[:-1]]\n",
    "        self.std = [np.std(class_0, axis=0)[:-1], np.std(class_1, axis=0)[:-1]] \n",
    "    \n",
    "    # Assume features is of Gaussian distribution, and compute PDF\n",
    "    def calc_probabilities(self,x,c):\n",
    "        exponent = np.exp( - np.power(x-self.mean[c],2) / (2*np.power(self.std[c],2)) )\n",
    "        feature_probabilities = exponent / (math.sqrt(2*math.pi) * self.std[c]) \n",
    "        \n",
    "        return np.prod(feature_probabilities)"
   ]
  },
  {
   "cell_type": "code",
   "execution_count": 5,
   "metadata": {},
   "outputs": [
    {
     "name": "stdout",
     "output_type": "stream",
     "text": [
      "['Number_pregnant' 'Glucose_concentration' 'Blood_pressure' 'Triceps'\n",
      " 'Insulin' 'BMI' 'Pedigree' 'Age' 'Class']\n"
     ]
    }
   ],
   "source": [
    "columns, data = load_data()\n",
    "print(columns)"
   ]
  },
  {
   "cell_type": "markdown",
   "metadata": {},
   "source": [
    "Normalize data"
   ]
  },
  {
   "cell_type": "code",
   "execution_count": 6,
   "metadata": {},
   "outputs": [],
   "source": [
    "data[:,:-1] = (data[:,:-1]-np.mean(data[:,:-1],axis=0))/np.std(data[:,:-1],axis=0)"
   ]
  },
  {
   "cell_type": "code",
   "execution_count": 25,
   "metadata": {},
   "outputs": [],
   "source": [
    "train_set,test_set = test_train_split(data,0.67)"
   ]
  },
  {
   "cell_type": "code",
   "execution_count": 26,
   "metadata": {},
   "outputs": [],
   "source": [
    "c = NaiveBayesPredictor(train_set)"
   ]
  },
  {
   "cell_type": "code",
   "execution_count": 27,
   "metadata": {},
   "outputs": [
    {
     "name": "stdout",
     "output_type": "stream",
     "text": [
      "72.8% correct\n"
     ]
    }
   ],
   "source": [
    "c.test(test_set)"
   ]
  },
  {
   "cell_type": "markdown",
   "metadata": {},
   "source": [
    "## Try to improve results with SVD"
   ]
  },
  {
   "cell_type": "code",
   "execution_count": 10,
   "metadata": {
    "collapsed": true
   },
   "outputs": [],
   "source": [
    "u,s,v = np.linalg.svd(data[:,:-1])"
   ]
  },
  {
   "cell_type": "code",
   "execution_count": 11,
   "metadata": {},
   "outputs": [
    {
     "name": "stdout",
     "output_type": "stream",
     "text": [
      "[ 40.10590727  36.4632608   28.12037943  25.9307984   24.19670408\n",
      "  22.89669413  17.95602478  17.62460929]\n"
     ]
    }
   ],
   "source": [
    "print(s)"
   ]
  },
  {
   "cell_type": "markdown",
   "metadata": {},
   "source": [
    "## Try keeping just the first few: "
   ]
  },
  {
   "cell_type": "code",
   "execution_count": 12,
   "metadata": {},
   "outputs": [],
   "source": [
    "n_cols_to_retain = 3; \n",
    "tmp = np.dot(u[:,:n_cols_to_retain],np.diag(s[:n_cols_to_retain]))\n",
    "svd_data = np.dot(tmp,v[:n_cols_to_retain,:])"
   ]
  },
  {
   "cell_type": "code",
   "execution_count": 34,
   "metadata": {},
   "outputs": [],
   "source": [
    "reduced_data = np.append(svd_data, data[:,-1].reshape([768,1]),axis = 1)"
   ]
  },
  {
   "cell_type": "code",
   "execution_count": 35,
   "metadata": {},
   "outputs": [],
   "source": [
    "reduced_data_train,reduced_data_test = test_train_split(reduced_data,0.67)"
   ]
  },
  {
   "cell_type": "code",
   "execution_count": 36,
   "metadata": {},
   "outputs": [],
   "source": [
    "c_reduced = NaiveBayesPredictor(reduced_data_test)"
   ]
  },
  {
   "cell_type": "code",
   "execution_count": 37,
   "metadata": {},
   "outputs": [
    {
     "name": "stdout",
     "output_type": "stream",
     "text": [
      "73.2% correct\n"
     ]
    }
   ],
   "source": [
    "c.test(reduced_data_test)"
   ]
  },
  {
   "cell_type": "markdown",
   "metadata": {},
   "source": [
    "## Try decomposition: "
   ]
  },
  {
   "cell_type": "code",
   "execution_count": 17,
   "metadata": {
    "collapsed": true
   },
   "outputs": [],
   "source": [
    "n_cols_to_retain = 2; "
   ]
  },
  {
   "cell_type": "code",
   "execution_count": 18,
   "metadata": {},
   "outputs": [],
   "source": [
    "decomposed_data = np.append(u[:,:n_cols_to_retain],data[:,-1].reshape([768,1]),axis = 1)"
   ]
  },
  {
   "cell_type": "code",
   "execution_count": 19,
   "metadata": {},
   "outputs": [],
   "source": [
    "decomposed_data_train,decomposed_data_test = test_train_split(decomposed_data,0.67)"
   ]
  },
  {
   "cell_type": "code",
   "execution_count": 20,
   "metadata": {},
   "outputs": [],
   "source": [
    "c_decomposed = NaiveBayesPredictor(decomposed_data_train)"
   ]
  },
  {
   "cell_type": "code",
   "execution_count": 21,
   "metadata": {},
   "outputs": [
    {
     "name": "stdout",
     "output_type": "stream",
     "text": [
      "68.1% correct\n"
     ]
    }
   ],
   "source": [
    "c_decomposed.test(decomposed_data_test)"
   ]
  },
  {
   "cell_type": "code",
   "execution_count": 22,
   "metadata": {},
   "outputs": [],
   "source": [
    "class_0 = decomposed_data[decomposed_data[:,-1] == 0][:,:2]\n",
    "class_1 = decomposed_data[decomposed_data[:,-1] == 1][:,:2]"
   ]
  },
  {
   "cell_type": "code",
   "execution_count": 137,
   "metadata": {},
   "outputs": [
    {
     "data": {
      "image/png": "[encoded data removed]",
      "text/plain": [
       "<matplotlib.figure.Figure at 0x1185a5eb8>"
      ]
     },
     "metadata": {},
     "output_type": "display_data"
    }
   ],
   "source": [
    "plt.plot(class_0[:,0],class_0[:,1],'rx')\n",
    "plt.plot(class_1[:,0],class_1[:,1],'bx')\n",
    "plt.axis('equal')\n",
    "plt.show()"
   ]
  },
  {
   "cell_type": "code",
   "execution_count": 40,
   "metadata": {},
   "outputs": [
    {
     "data": {
      "text/plain": [
       "array(['Number_pregnant', 'Glucose_concentration', 'Blood_pressure',\n",
       "       'Triceps', 'Insulin', 'BMI', 'Pedigree', 'Age', 'Class'],\n",
       "      dtype='<U21')"
      ]
     },
     "execution_count": 40,
     "metadata": {},
     "output_type": "execute_result"
    }
   ],
   "source": [
    "columns"
   ]
  },
  {
   "cell_type": "markdown",
   "metadata": {},
   "source": [
    "## Try principal component analysis"
   ]
  },
  {
   "cell_type": "code",
   "execution_count": 94,
   "metadata": {},
   "outputs": [],
   "source": [
    "A = data[:,:-1]\n",
    "A_T = np.transpose(A); \n",
    "\n",
    "M = np.dot(A_T,A)\n",
    "\n",
    "w,v = np.linalg.eig(M)"
   ]
  },
  {
   "cell_type": "code",
   "execution_count": 95,
   "metadata": {},
   "outputs": [
    {
     "name": "stdout",
     "output_type": "stream",
     "text": [
      "[ 0.26179749  0.21640127  0.05247702  0.05055776  0.08532855  0.09529305\n",
      "  0.10944113  0.12870373]\n"
     ]
    }
   ],
   "source": [
    "print(w/np.sum(w))"
   ]
  },
  {
   "cell_type": "code",
   "execution_count": 96,
   "metadata": {},
   "outputs": [
    {
     "data": {
      "text/plain": [
       "(8, 4)"
      ]
     },
     "execution_count": 96,
     "metadata": {},
     "output_type": "execute_result"
    }
   ],
   "source": [
    "#Leave out all vectors not correspongint to more than 10 %\n",
    "v_reduced = v[:,w/np.sum(w)>0.1]\n",
    "np.shape(v_reduced)"
   ]
  },
  {
   "cell_type": "code",
   "execution_count": 97,
   "metadata": {},
   "outputs": [],
   "source": [
    "reduced_data_unlabeled = np.dot(data[:,:-1],v_reduced)\n",
    "reduced_data = np.append(reduced_data_unlabeled,data[:,-1].reshape([768,1]),axis = 1)"
   ]
  },
  {
   "cell_type": "code",
   "execution_count": 98,
   "metadata": {},
   "outputs": [],
   "source": [
    "# ReNormalize\n",
    "reduced_data[:,:-1] = (reduced_data[:,:-1]-np.mean(reduced_data[:,:-1],axis=0))/np.std(reduced_data[:,:-1],axis=0)"
   ]
  },
  {
   "cell_type": "code",
   "execution_count": 99,
   "metadata": {},
   "outputs": [],
   "source": [
    "train_set_PCA, test_set_PCA = test_train_split(reduced_data,0.67)"
   ]
  },
  {
   "cell_type": "code",
   "execution_count": 100,
   "metadata": {
    "collapsed": true
   },
   "outputs": [],
   "source": [
    "c_PCA = NaiveBayesPredictor(train_set_PCA)"
   ]
  },
  {
   "cell_type": "code",
   "execution_count": 101,
   "metadata": {},
   "outputs": [
    {
     "name": "stdout",
     "output_type": "stream",
     "text": [
      "74.4% correct\n"
     ]
    }
   ],
   "source": [
    "c_PCA.test(test_set_PCA)"
   ]
  },
  {
   "cell_type": "markdown",
   "metadata": {},
   "source": [
    "## Try to retain only first two for visualization purposes"
   ]
  },
  {
   "cell_type": "code",
   "execution_count": 104,
   "metadata": {
    "collapsed": true
   },
   "outputs": [],
   "source": [
    "v_2 = v[:,:2]"
   ]
  },
  {
   "cell_type": "code",
   "execution_count": 106,
   "metadata": {},
   "outputs": [],
   "source": [
    "reduced_data_unlabeled_2 = np.dot(data[:,:-1],v_2)\n",
    "reduced_data_2 = np.append(reduced_data_unlabeled_2,data[:,-1].reshape([768,1]),axis = 1)"
   ]
  },
  {
   "cell_type": "code",
   "execution_count": 107,
   "metadata": {
    "collapsed": true
   },
   "outputs": [],
   "source": [
    "reduced_data_2[:,:-1] = (reduced_data_2[:,:-1]-np.mean(reduced_data_2[:,:-1],axis=0))/np.std(reduced_data_2[:,:-1],axis=0)"
   ]
  },
  {
   "cell_type": "code",
   "execution_count": 108,
   "metadata": {},
   "outputs": [
    {
     "data": {
      "text/plain": [
       "(768, 3)"
      ]
     },
     "execution_count": 108,
     "metadata": {},
     "output_type": "execute_result"
    }
   ],
   "source": [
    "np.shape(reduced_data_2)"
   ]
  },
  {
   "cell_type": "code",
   "execution_count": 109,
   "metadata": {
    "collapsed": true
   },
   "outputs": [],
   "source": [
    "class_0 = reduced_data_2[reduced_data_2[:,-1]==0][:,:2]\n",
    "class_1 = reduced_data_2[reduced_data_2[:,-1]==1][:,:2]"
   ]
  },
  {
   "cell_type": "code",
   "execution_count": 110,
   "metadata": {},
   "outputs": [
    {
     "data": {
      "image/png": "[encoded data removed]",
      "text/plain": [
       "<matplotlib.figure.Figure at 0x11865e080>"
      ]
     },
     "metadata": {},
     "output_type": "display_data"
    }
   ],
   "source": [
    "plt.plot(class_0[:,0],class_0[:,1],'rx')\n",
    "plt.plot(class_1[:,0],class_1[:,1],'bx')\n",
    "plt.show()"
   ]
  },
  {
   "cell_type": "markdown",
   "metadata": {},
   "source": [
    "## What happens if you perform SVD on reduced?"
   ]
  },
  {
   "cell_type": "code",
   "execution_count": 117,
   "metadata": {},
   "outputs": [],
   "source": [
    "u,s,v = np.linalg.svd(reduced_data[:,:-1])"
   ]
  },
  {
   "cell_type": "code",
   "execution_count": 118,
   "metadata": {},
   "outputs": [
    {
     "data": {
      "text/plain": [
       "array([ 27.71281292,  27.71281292,  27.71281292,  27.71281292])"
      ]
     },
     "execution_count": 118,
     "metadata": {},
     "output_type": "execute_result"
    }
   ],
   "source": [
    "s"
   ]
  },
  {
   "cell_type": "markdown",
   "metadata": {},
   "source": [
    "## Plot decision boundary"
   ]
  },
  {
   "cell_type": "code",
   "execution_count": 124,
   "metadata": {
    "collapsed": true
   },
   "outputs": [],
   "source": [
    "train_set, test_set = test_train_split(reduced_data_2,0.67)\n",
    "classifier = NaiveBayesPredictor(train_set)"
   ]
  },
  {
   "cell_type": "code",
   "execution_count": 133,
   "metadata": {},
   "outputs": [
    {
     "data": {
      "image/png": "[encoded data removed]",
      "text/plain": [
       "<matplotlib.figure.Figure at 0x117884b70>"
      ]
     },
     "metadata": {},
     "output_type": "display_data"
    }
   ],
   "source": [
    "class_0_corr = []\n",
    "class_0_false = []\n",
    "class_1_corr = []\n",
    "class_1_false = []\n",
    "for item in data:\n",
    "    c = item[-1]\n",
    "    transformed = np.dot(item[:-1],v_2)\n",
    "    c_hat = classifier.predict(transformed); \n",
    "    \n",
    "    if c == c_hat:\n",
    "        if(c_hat == 0):\n",
    "            plt.plot(transformed[0],transformed[1],'ro',markerfacecolor='none')\n",
    "        else:\n",
    "            plt.plot(transformed[0],transformed[1],'bo',markerfacecolor='none')\n",
    "    else:\n",
    "        if(c_hat == 0):\n",
    "            plt.plot(transformed[0],transformed[1],'bx')\n",
    "        else:\n",
    "            plt.plot(transformed[0],transformed[1],'rx')\n",
    "    \n",
    "plt.show()\n",
    "    "
   ]
  },
  {
   "cell_type": "code",
   "execution_count": 141,
   "metadata": {},
   "outputs": [
    {
     "data": {
      "image/png": "[encoded data removed]",
      "text/plain": [
       "<matplotlib.figure.Figure at 0x1158d69e8>"
      ]
     },
     "metadata": {},
     "output_type": "display_data"
    }
   ],
   "source": [
    "for i in range(1000):\n",
    "    x=-6+ 24*np.random.rand()\n",
    "    y=-6 + 24*np.random.rand()\n",
    "    \n",
    "    c = classifier.predict([x,y])\n",
    "    if(c == 0):\n",
    "        plt.plot(x,y,'ro')\n",
    "    else:\n",
    "        plt.plot(x,y,'bo')\n",
    "        \n",
    "plt.axis('equal')        \n",
    "plt.show()"
   ]
  },
  {
   "cell_type": "code",
   "execution_count": null,
   "metadata": {
    "collapsed": true
   },
   "outputs": [],
   "source": []
  }
 ],
 "metadata": {
  "kernelspec": {
   "display_name": "Python 3",
   "language": "python",
   "name": "python3"
  },
  "language_info": {
   "codemirror_mode": {
    "name": "ipython",
    "version": 3
   },
   "file_extension": ".py",
   "mimetype": "text/x-python",
   "name": "python",
   "nbconvert_exporter": "python",
   "pygments_lexer": "ipython3",
   "version": "3.6.4"
  }
 },
 "nbformat": 4,
 "nbformat_minor": 2
}
